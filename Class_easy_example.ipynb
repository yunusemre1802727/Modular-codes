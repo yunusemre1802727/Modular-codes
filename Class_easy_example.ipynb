{
 "cells": [
  {
   "cell_type": "code",
   "execution_count": 1,
   "id": "2eac2b94",
   "metadata": {},
   "outputs": [],
   "source": [
    "class MyClass:\n",
    "    def __init__(self, attribute1, attribute2):\n",
    "        self.attribute1 = attribute1\n",
    "        self.attribute2 = attribute2\n",
    "\n",
    "    def display_attributes(self):\n",
    "        print(f\"Attribute1: {self.attribute1}, Attribute2: {self.attribute2}\")\n",
    "    \n",
    "    def modify_attributes(self, new_value1, new_value2):\n",
    "        self.attribute1 = new_value1\n",
    "        self.attribute2 = new_value2\n",
    "\n",
    "    def display_and_modify(self, new_value1, new_value2):\n",
    "        self.display_attributes()\n",
    "        self.modify_attributes(new_value1, new_value2)\n",
    "        self.display_attributes()\n"
   ]
  },
  {
   "cell_type": "code",
   "execution_count": 2,
   "id": "efe6afa1",
   "metadata": {},
   "outputs": [
    {
     "name": "stdout",
     "output_type": "stream",
     "text": [
      "Attribute1: Emre, Attribute2: Maja\n"
     ]
    }
   ],
   "source": [
    "emre = MyClass(\"Emre\",\"Maja\")\n",
    "emre.display_attributes()"
   ]
  },
  {
   "cell_type": "code",
   "execution_count": 4,
   "id": "cef69f0a",
   "metadata": {},
   "outputs": [
    {
     "name": "stdout",
     "output_type": "stream",
     "text": [
      "Attribute1: Yunus, Attribute2: Yılmaz\n",
      "Attribute1: Yunus, Attribute2: Yılmaz\n"
     ]
    }
   ],
   "source": [
    "emre.display_and_modify(\"Yunus\",\"Yılmaz\")"
   ]
  },
  {
   "cell_type": "code",
   "execution_count": null,
   "id": "7ebc8b5a",
   "metadata": {},
   "outputs": [],
   "source": []
  }
 ],
 "metadata": {
  "kernelspec": {
   "display_name": "Python 3 (ipykernel)",
   "language": "python",
   "name": "python3"
  },
  "language_info": {
   "codemirror_mode": {
    "name": "ipython",
    "version": 3
   },
   "file_extension": ".py",
   "mimetype": "text/x-python",
   "name": "python",
   "nbconvert_exporter": "python",
   "pygments_lexer": "ipython3",
   "version": "3.9.13"
  }
 },
 "nbformat": 4,
 "nbformat_minor": 5
}
